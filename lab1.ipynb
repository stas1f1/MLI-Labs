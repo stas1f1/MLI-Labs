{
  "nbformat": 4,
  "nbformat_minor": 0,
  "metadata": {
    "colab": {
      "provenance": []
    },
    "kernelspec": {
      "name": "python3",
      "display_name": "Python 3"
    },
    "language_info": {
      "name": "python"
    },
    "gpuClass": "standard",
    "widgets": {
      "application/vnd.jupyter.widget-state+json": {
        "5d97dfe6d02e4f4db474ce949e938bec": {
          "model_module": "@jupyter-widgets/controls",
          "model_name": "HBoxModel",
          "model_module_version": "1.5.0",
          "state": {
            "_dom_classes": [],
            "_model_module": "@jupyter-widgets/controls",
            "_model_module_version": "1.5.0",
            "_model_name": "HBoxModel",
            "_view_count": null,
            "_view_module": "@jupyter-widgets/controls",
            "_view_module_version": "1.5.0",
            "_view_name": "HBoxView",
            "box_style": "",
            "children": [
              "IPY_MODEL_d86f1267ab844d4eaac8b2ba5fe5cf05",
              "IPY_MODEL_4824fcd93bd3471f9f98b110fbdaf8c6",
              "IPY_MODEL_0b4d98597c6e4ae0b03f1d0cb1ce963c"
            ],
            "layout": "IPY_MODEL_5bef8f62ff5849d5a496468f03463c23"
          }
        },
        "d86f1267ab844d4eaac8b2ba5fe5cf05": {
          "model_module": "@jupyter-widgets/controls",
          "model_name": "HTMLModel",
          "model_module_version": "1.5.0",
          "state": {
            "_dom_classes": [],
            "_model_module": "@jupyter-widgets/controls",
            "_model_module_version": "1.5.0",
            "_model_name": "HTMLModel",
            "_view_count": null,
            "_view_module": "@jupyter-widgets/controls",
            "_view_module_version": "1.5.0",
            "_view_name": "HTMLView",
            "description": "",
            "description_tooltip": null,
            "layout": "IPY_MODEL_32500f233b1f4a4eb3097522ef2178a8",
            "placeholder": "​",
            "style": "IPY_MODEL_1266ee2eb8bc43b0b9894e0e14d5f0ef",
            "value": ""
          }
        },
        "4824fcd93bd3471f9f98b110fbdaf8c6": {
          "model_module": "@jupyter-widgets/controls",
          "model_name": "FloatProgressModel",
          "model_module_version": "1.5.0",
          "state": {
            "_dom_classes": [],
            "_model_module": "@jupyter-widgets/controls",
            "_model_module_version": "1.5.0",
            "_model_name": "FloatProgressModel",
            "_view_count": null,
            "_view_module": "@jupyter-widgets/controls",
            "_view_module_version": "1.5.0",
            "_view_name": "ProgressView",
            "bar_style": "success",
            "description": "",
            "description_tooltip": null,
            "layout": "IPY_MODEL_68339c00986a4580bbc5b7b9b777db01",
            "max": 1,
            "min": 0,
            "orientation": "horizontal",
            "style": "IPY_MODEL_4f80ba4de4a24fba8b1f499b4c1f5322",
            "value": 1
          }
        },
        "0b4d98597c6e4ae0b03f1d0cb1ce963c": {
          "model_module": "@jupyter-widgets/controls",
          "model_name": "HTMLModel",
          "model_module_version": "1.5.0",
          "state": {
            "_dom_classes": [],
            "_model_module": "@jupyter-widgets/controls",
            "_model_module_version": "1.5.0",
            "_model_name": "HTMLModel",
            "_view_count": null,
            "_view_module": "@jupyter-widgets/controls",
            "_view_module_version": "1.5.0",
            "_view_name": "HTMLView",
            "description": "",
            "description_tooltip": null,
            "layout": "IPY_MODEL_33cd411bb2c74e1d97099c1a804d564b",
            "placeholder": "​",
            "style": "IPY_MODEL_3c468e64906f4b648d1e54c49994c754",
            "value": " 1504/? [10:46&lt;00:00,  1.32it/s]"
          }
        },
        "5bef8f62ff5849d5a496468f03463c23": {
          "model_module": "@jupyter-widgets/base",
          "model_name": "LayoutModel",
          "model_module_version": "1.2.0",
          "state": {
            "_model_module": "@jupyter-widgets/base",
            "_model_module_version": "1.2.0",
            "_model_name": "LayoutModel",
            "_view_count": null,
            "_view_module": "@jupyter-widgets/base",
            "_view_module_version": "1.2.0",
            "_view_name": "LayoutView",
            "align_content": null,
            "align_items": null,
            "align_self": null,
            "border": null,
            "bottom": null,
            "display": null,
            "flex": null,
            "flex_flow": null,
            "grid_area": null,
            "grid_auto_columns": null,
            "grid_auto_flow": null,
            "grid_auto_rows": null,
            "grid_column": null,
            "grid_gap": null,
            "grid_row": null,
            "grid_template_areas": null,
            "grid_template_columns": null,
            "grid_template_rows": null,
            "height": null,
            "justify_content": null,
            "justify_items": null,
            "left": null,
            "margin": null,
            "max_height": null,
            "max_width": null,
            "min_height": null,
            "min_width": null,
            "object_fit": null,
            "object_position": null,
            "order": null,
            "overflow": null,
            "overflow_x": null,
            "overflow_y": null,
            "padding": null,
            "right": null,
            "top": null,
            "visibility": null,
            "width": null
          }
        },
        "32500f233b1f4a4eb3097522ef2178a8": {
          "model_module": "@jupyter-widgets/base",
          "model_name": "LayoutModel",
          "model_module_version": "1.2.0",
          "state": {
            "_model_module": "@jupyter-widgets/base",
            "_model_module_version": "1.2.0",
            "_model_name": "LayoutModel",
            "_view_count": null,
            "_view_module": "@jupyter-widgets/base",
            "_view_module_version": "1.2.0",
            "_view_name": "LayoutView",
            "align_content": null,
            "align_items": null,
            "align_self": null,
            "border": null,
            "bottom": null,
            "display": null,
            "flex": null,
            "flex_flow": null,
            "grid_area": null,
            "grid_auto_columns": null,
            "grid_auto_flow": null,
            "grid_auto_rows": null,
            "grid_column": null,
            "grid_gap": null,
            "grid_row": null,
            "grid_template_areas": null,
            "grid_template_columns": null,
            "grid_template_rows": null,
            "height": null,
            "justify_content": null,
            "justify_items": null,
            "left": null,
            "margin": null,
            "max_height": null,
            "max_width": null,
            "min_height": null,
            "min_width": null,
            "object_fit": null,
            "object_position": null,
            "order": null,
            "overflow": null,
            "overflow_x": null,
            "overflow_y": null,
            "padding": null,
            "right": null,
            "top": null,
            "visibility": null,
            "width": null
          }
        },
        "1266ee2eb8bc43b0b9894e0e14d5f0ef": {
          "model_module": "@jupyter-widgets/controls",
          "model_name": "DescriptionStyleModel",
          "model_module_version": "1.5.0",
          "state": {
            "_model_module": "@jupyter-widgets/controls",
            "_model_module_version": "1.5.0",
            "_model_name": "DescriptionStyleModel",
            "_view_count": null,
            "_view_module": "@jupyter-widgets/base",
            "_view_module_version": "1.2.0",
            "_view_name": "StyleView",
            "description_width": ""
          }
        },
        "68339c00986a4580bbc5b7b9b777db01": {
          "model_module": "@jupyter-widgets/base",
          "model_name": "LayoutModel",
          "model_module_version": "1.2.0",
          "state": {
            "_model_module": "@jupyter-widgets/base",
            "_model_module_version": "1.2.0",
            "_model_name": "LayoutModel",
            "_view_count": null,
            "_view_module": "@jupyter-widgets/base",
            "_view_module_version": "1.2.0",
            "_view_name": "LayoutView",
            "align_content": null,
            "align_items": null,
            "align_self": null,
            "border": null,
            "bottom": null,
            "display": null,
            "flex": null,
            "flex_flow": null,
            "grid_area": null,
            "grid_auto_columns": null,
            "grid_auto_flow": null,
            "grid_auto_rows": null,
            "grid_column": null,
            "grid_gap": null,
            "grid_row": null,
            "grid_template_areas": null,
            "grid_template_columns": null,
            "grid_template_rows": null,
            "height": null,
            "justify_content": null,
            "justify_items": null,
            "left": null,
            "margin": null,
            "max_height": null,
            "max_width": null,
            "min_height": null,
            "min_width": null,
            "object_fit": null,
            "object_position": null,
            "order": null,
            "overflow": null,
            "overflow_x": null,
            "overflow_y": null,
            "padding": null,
            "right": null,
            "top": null,
            "visibility": null,
            "width": "20px"
          }
        },
        "4f80ba4de4a24fba8b1f499b4c1f5322": {
          "model_module": "@jupyter-widgets/controls",
          "model_name": "ProgressStyleModel",
          "model_module_version": "1.5.0",
          "state": {
            "_model_module": "@jupyter-widgets/controls",
            "_model_module_version": "1.5.0",
            "_model_name": "ProgressStyleModel",
            "_view_count": null,
            "_view_module": "@jupyter-widgets/base",
            "_view_module_version": "1.2.0",
            "_view_name": "StyleView",
            "bar_color": null,
            "description_width": ""
          }
        },
        "33cd411bb2c74e1d97099c1a804d564b": {
          "model_module": "@jupyter-widgets/base",
          "model_name": "LayoutModel",
          "model_module_version": "1.2.0",
          "state": {
            "_model_module": "@jupyter-widgets/base",
            "_model_module_version": "1.2.0",
            "_model_name": "LayoutModel",
            "_view_count": null,
            "_view_module": "@jupyter-widgets/base",
            "_view_module_version": "1.2.0",
            "_view_name": "LayoutView",
            "align_content": null,
            "align_items": null,
            "align_self": null,
            "border": null,
            "bottom": null,
            "display": null,
            "flex": null,
            "flex_flow": null,
            "grid_area": null,
            "grid_auto_columns": null,
            "grid_auto_flow": null,
            "grid_auto_rows": null,
            "grid_column": null,
            "grid_gap": null,
            "grid_row": null,
            "grid_template_areas": null,
            "grid_template_columns": null,
            "grid_template_rows": null,
            "height": null,
            "justify_content": null,
            "justify_items": null,
            "left": null,
            "margin": null,
            "max_height": null,
            "max_width": null,
            "min_height": null,
            "min_width": null,
            "object_fit": null,
            "object_position": null,
            "order": null,
            "overflow": null,
            "overflow_x": null,
            "overflow_y": null,
            "padding": null,
            "right": null,
            "top": null,
            "visibility": null,
            "width": null
          }
        },
        "3c468e64906f4b648d1e54c49994c754": {
          "model_module": "@jupyter-widgets/controls",
          "model_name": "DescriptionStyleModel",
          "model_module_version": "1.5.0",
          "state": {
            "_model_module": "@jupyter-widgets/controls",
            "_model_module_version": "1.5.0",
            "_model_name": "DescriptionStyleModel",
            "_view_count": null,
            "_view_module": "@jupyter-widgets/base",
            "_view_module_version": "1.2.0",
            "_view_name": "StyleView",
            "description_width": ""
          }
        }
      }
    }
  },
  "cells": [
    {
      "cell_type": "code",
      "source": [
        "import pandas as pd\n",
        "import numpy as np\n",
        "import random\n",
        "\n",
        "import torch\n",
        "from torch import nn\n",
        "from torch.utils.data import Dataset, DataLoader\n",
        "\n",
        "import matplotlib.pyplot as plt\n",
        "\n",
        "from sklearn.preprocessing import StandardScaler\n",
        "import geopy.distance\n",
        "from tqdm.notebook import tqdm\n",
        "\n",
        "import  matplotlib.pyplot as plt"
      ],
      "metadata": {
        "id": "yybR1BfXCAO3"
      },
      "execution_count": 3,
      "outputs": []
    },
    {
      "cell_type": "code",
      "source": [
        "from scipy import stats\n",
        "import statsmodels.api as sm\n",
        "from itertools import product\n",
        "from statsmodels.iolib.table import SimpleTable"
      ],
      "metadata": {
        "id": "asb7RY5NjGgm"
      },
      "execution_count": 4,
      "outputs": []
    },
    {
      "cell_type": "code",
      "source": [
        "SEED = 2022\n",
        "device = \"cuda\" if torch.cuda.is_available else \"cpu\"\n",
        "data_path = r\"/content/drive/MyDrive/Семестр 3/Ml_in_da_hood/OneDrive_1_23.10.2022/train_data.csv\"\n",
        "valid_path = r\"/content/drive/MyDrive/Семестр 3/Ml_in_da_hood/OneDrive_1_23.10.2022/valid.csv\"\n",
        "\n",
        "random.seed(SEED)\n",
        "np.random.seed(SEED)\n",
        "torch.manual_seed(SEED)\n",
        "torch.cuda.manual_seed_all(SEED)"
      ],
      "metadata": {
        "id": "Lqhp96563TUX"
      },
      "execution_count": 5,
      "outputs": []
    },
    {
      "cell_type": "code",
      "source": [
        "from google.colab import drive\n",
        "drive.mount('/content/drive')"
      ],
      "metadata": {
        "colab": {
          "base_uri": "https://localhost:8080/"
        },
        "id": "0OTD51213_jR",
        "outputId": "cd6302f7-85f3-417a-f1f2-8b591a2b4173"
      },
      "execution_count": 6,
      "outputs": [
        {
          "output_type": "stream",
          "name": "stdout",
          "text": [
            "Mounted at /content/drive\n"
          ]
        }
      ]
    },
    {
      "cell_type": "markdown",
      "source": [
        "### Чтение данных"
      ],
      "metadata": {
        "id": "K-lL-uiE_rG0"
      }
    },
    {
      "cell_type": "code",
      "source": [
        "data = pd.read_csv(data_path)\n",
        "valid = pd.read_csv(valid_path)"
      ],
      "metadata": {
        "id": "A70eBE3pafHr"
      },
      "execution_count": 7,
      "outputs": []
    },
    {
      "cell_type": "markdown",
      "source": [
        "### Обработка данных"
      ],
      "metadata": {
        "id": "oyeiPkVqakBg"
      }
    },
    {
      "cell_type": "code",
      "source": [
        "df = data.copy().drop([\"likescount\",\t\"commentscount\",\t\"symbols_cnt\",\t\"words_cnt\",\t\"hashtags_cnt\",\t\"mentions_cnt\",\t\"links_cnt\",\t\"emoji_cnt\"], axis=1)\n",
        "df = df[(df.lat>59) & (df.lon>29) & (df.lon<31)].reset_index(drop=True)\n",
        "df[\"cnt\"] = 1\n",
        "\n",
        "df_global_group = pd.DataFrame(df.groupby(['point'], as_index=False).cnt.sum())\n",
        "df_global_group = df_global_group[df_global_group.cnt > 365*1.5]\n",
        "\n",
        "df_group = df[df.point.isin(df_global_group[\"point\"])].groupby([\"lon\", \"lat\", \"timestamp\", \"point\"], as_index=False).cnt.sum()"
      ],
      "metadata": {
        "id": "ooeS8-uj4K7X"
      },
      "execution_count": 39,
      "outputs": []
    },
    {
      "cell_type": "code",
      "source": [
        "print(df_group.shape)\n",
        "df_group.head()"
      ],
      "metadata": {
        "colab": {
          "base_uri": "https://localhost:8080/",
          "height": 224
        },
        "id": "xISIAOLgc3y_",
        "outputId": "0704dff6-0447-497a-d21f-ae52fcabb3c8"
      },
      "execution_count": 41,
      "outputs": [
        {
          "output_type": "stream",
          "name": "stdout",
          "text": [
            "(3137789, 5)\n"
          ]
        },
        {
          "output_type": "execute_result",
          "data": {
            "text/plain": [
              "         lon        lat   timestamp  \\\n",
              "0  30.093562  59.853756  1546498800   \n",
              "1  30.093562  59.853756  1546520400   \n",
              "2  30.093562  59.853756  1546693200   \n",
              "3  30.093562  59.853756  1546761600   \n",
              "4  30.093562  59.853756  1546783200   \n",
              "\n",
              "                                               point  cnt  \n",
              "0  0101000020E61000008D792FAEF3173E40717466E047ED...    1  \n",
              "1  0101000020E61000008D792FAEF3173E40717466E047ED...    1  \n",
              "2  0101000020E61000008D792FAEF3173E40717466E047ED...    1  \n",
              "3  0101000020E61000008D792FAEF3173E40717466E047ED...    1  \n",
              "4  0101000020E61000008D792FAEF3173E40717466E047ED...    1  "
            ],
            "text/html": [
              "\n",
              "  <div id=\"df-2ae66aed-b988-428f-8e92-2eb297016a53\">\n",
              "    <div class=\"colab-df-container\">\n",
              "      <div>\n",
              "<style scoped>\n",
              "    .dataframe tbody tr th:only-of-type {\n",
              "        vertical-align: middle;\n",
              "    }\n",
              "\n",
              "    .dataframe tbody tr th {\n",
              "        vertical-align: top;\n",
              "    }\n",
              "\n",
              "    .dataframe thead th {\n",
              "        text-align: right;\n",
              "    }\n",
              "</style>\n",
              "<table border=\"1\" class=\"dataframe\">\n",
              "  <thead>\n",
              "    <tr style=\"text-align: right;\">\n",
              "      <th></th>\n",
              "      <th>lon</th>\n",
              "      <th>lat</th>\n",
              "      <th>timestamp</th>\n",
              "      <th>point</th>\n",
              "      <th>cnt</th>\n",
              "    </tr>\n",
              "  </thead>\n",
              "  <tbody>\n",
              "    <tr>\n",
              "      <th>0</th>\n",
              "      <td>30.093562</td>\n",
              "      <td>59.853756</td>\n",
              "      <td>1546498800</td>\n",
              "      <td>0101000020E61000008D792FAEF3173E40717466E047ED...</td>\n",
              "      <td>1</td>\n",
              "    </tr>\n",
              "    <tr>\n",
              "      <th>1</th>\n",
              "      <td>30.093562</td>\n",
              "      <td>59.853756</td>\n",
              "      <td>1546520400</td>\n",
              "      <td>0101000020E61000008D792FAEF3173E40717466E047ED...</td>\n",
              "      <td>1</td>\n",
              "    </tr>\n",
              "    <tr>\n",
              "      <th>2</th>\n",
              "      <td>30.093562</td>\n",
              "      <td>59.853756</td>\n",
              "      <td>1546693200</td>\n",
              "      <td>0101000020E61000008D792FAEF3173E40717466E047ED...</td>\n",
              "      <td>1</td>\n",
              "    </tr>\n",
              "    <tr>\n",
              "      <th>3</th>\n",
              "      <td>30.093562</td>\n",
              "      <td>59.853756</td>\n",
              "      <td>1546761600</td>\n",
              "      <td>0101000020E61000008D792FAEF3173E40717466E047ED...</td>\n",
              "      <td>1</td>\n",
              "    </tr>\n",
              "    <tr>\n",
              "      <th>4</th>\n",
              "      <td>30.093562</td>\n",
              "      <td>59.853756</td>\n",
              "      <td>1546783200</td>\n",
              "      <td>0101000020E61000008D792FAEF3173E40717466E047ED...</td>\n",
              "      <td>1</td>\n",
              "    </tr>\n",
              "  </tbody>\n",
              "</table>\n",
              "</div>\n",
              "      <button class=\"colab-df-convert\" onclick=\"convertToInteractive('df-2ae66aed-b988-428f-8e92-2eb297016a53')\"\n",
              "              title=\"Convert this dataframe to an interactive table.\"\n",
              "              style=\"display:none;\">\n",
              "        \n",
              "  <svg xmlns=\"http://www.w3.org/2000/svg\" height=\"24px\"viewBox=\"0 0 24 24\"\n",
              "       width=\"24px\">\n",
              "    <path d=\"M0 0h24v24H0V0z\" fill=\"none\"/>\n",
              "    <path d=\"M18.56 5.44l.94 2.06.94-2.06 2.06-.94-2.06-.94-.94-2.06-.94 2.06-2.06.94zm-11 1L8.5 8.5l.94-2.06 2.06-.94-2.06-.94L8.5 2.5l-.94 2.06-2.06.94zm10 10l.94 2.06.94-2.06 2.06-.94-2.06-.94-.94-2.06-.94 2.06-2.06.94z\"/><path d=\"M17.41 7.96l-1.37-1.37c-.4-.4-.92-.59-1.43-.59-.52 0-1.04.2-1.43.59L10.3 9.45l-7.72 7.72c-.78.78-.78 2.05 0 2.83L4 21.41c.39.39.9.59 1.41.59.51 0 1.02-.2 1.41-.59l7.78-7.78 2.81-2.81c.8-.78.8-2.07 0-2.86zM5.41 20L4 18.59l7.72-7.72 1.47 1.35L5.41 20z\"/>\n",
              "  </svg>\n",
              "      </button>\n",
              "      \n",
              "  <style>\n",
              "    .colab-df-container {\n",
              "      display:flex;\n",
              "      flex-wrap:wrap;\n",
              "      gap: 12px;\n",
              "    }\n",
              "\n",
              "    .colab-df-convert {\n",
              "      background-color: #E8F0FE;\n",
              "      border: none;\n",
              "      border-radius: 50%;\n",
              "      cursor: pointer;\n",
              "      display: none;\n",
              "      fill: #1967D2;\n",
              "      height: 32px;\n",
              "      padding: 0 0 0 0;\n",
              "      width: 32px;\n",
              "    }\n",
              "\n",
              "    .colab-df-convert:hover {\n",
              "      background-color: #E2EBFA;\n",
              "      box-shadow: 0px 1px 2px rgba(60, 64, 67, 0.3), 0px 1px 3px 1px rgba(60, 64, 67, 0.15);\n",
              "      fill: #174EA6;\n",
              "    }\n",
              "\n",
              "    [theme=dark] .colab-df-convert {\n",
              "      background-color: #3B4455;\n",
              "      fill: #D2E3FC;\n",
              "    }\n",
              "\n",
              "    [theme=dark] .colab-df-convert:hover {\n",
              "      background-color: #434B5C;\n",
              "      box-shadow: 0px 1px 3px 1px rgba(0, 0, 0, 0.15);\n",
              "      filter: drop-shadow(0px 1px 2px rgba(0, 0, 0, 0.3));\n",
              "      fill: #FFFFFF;\n",
              "    }\n",
              "  </style>\n",
              "\n",
              "      <script>\n",
              "        const buttonEl =\n",
              "          document.querySelector('#df-2ae66aed-b988-428f-8e92-2eb297016a53 button.colab-df-convert');\n",
              "        buttonEl.style.display =\n",
              "          google.colab.kernel.accessAllowed ? 'block' : 'none';\n",
              "\n",
              "        async function convertToInteractive(key) {\n",
              "          const element = document.querySelector('#df-2ae66aed-b988-428f-8e92-2eb297016a53');\n",
              "          const dataTable =\n",
              "            await google.colab.kernel.invokeFunction('convertToInteractive',\n",
              "                                                     [key], {});\n",
              "          if (!dataTable) return;\n",
              "\n",
              "          const docLinkHtml = 'Like what you see? Visit the ' +\n",
              "            '<a target=\"_blank\" href=https://colab.research.google.com/notebooks/data_table.ipynb>data table notebook</a>'\n",
              "            + ' to learn more about interactive tables.';\n",
              "          element.innerHTML = '';\n",
              "          dataTable['output_type'] = 'display_data';\n",
              "          await google.colab.output.renderOutput(dataTable, element);\n",
              "          const docLink = document.createElement('div');\n",
              "          docLink.innerHTML = docLinkHtml;\n",
              "          element.appendChild(docLink);\n",
              "        }\n",
              "      </script>\n",
              "    </div>\n",
              "  </div>\n",
              "  "
            ]
          },
          "metadata": {},
          "execution_count": 41
        }
      ]
    },
    {
      "cell_type": "markdown",
      "source": [
        "### Заполнение отсутствующих значений"
      ],
      "metadata": {
        "id": "DKdu-MfSerRR"
      }
    },
    {
      "cell_type": "code",
      "source": [
        "df_group_all = pd.DataFrame()\n",
        "place_arr = df_group[\"point\"].unique().tolist()\n",
        "for _, place in tqdm(enumerate(place_arr)):\n",
        "    \n",
        "    one_point =  df_group[df_group[\"point\"] == place]\n",
        "    timestamps_list = list(range(min(one_point['timestamp']), max(one_point['timestamp'])+3600, 3600))\n",
        "\n",
        "    df_tmp = pd.DataFrame()\n",
        "    df_tmp['timestamp'] = timestamps_list\n",
        "    df_tmp = pd.merge(df_tmp, one_point, how=\"left\", on=\"timestamp\")\n",
        "    df_tmp['point'] = df_tmp[\"point\"][0]\n",
        "    df_tmp['lat'] = df_tmp[\"lat\"][0]\n",
        "    df_tmp['lon'] = df_tmp[\"lon\"][0]\n",
        "    df_tmp = df_tmp.fillna(0)\n",
        "\n",
        "    df_group_all = pd.concat([df_group_all, df_tmp], ignore_index=True)"
      ],
      "metadata": {
        "colab": {
          "base_uri": "https://localhost:8080/",
          "height": 49,
          "referenced_widgets": [
            "5d97dfe6d02e4f4db474ce949e938bec",
            "d86f1267ab844d4eaac8b2ba5fe5cf05",
            "4824fcd93bd3471f9f98b110fbdaf8c6",
            "0b4d98597c6e4ae0b03f1d0cb1ce963c",
            "5bef8f62ff5849d5a496468f03463c23",
            "32500f233b1f4a4eb3097522ef2178a8",
            "1266ee2eb8bc43b0b9894e0e14d5f0ef",
            "68339c00986a4580bbc5b7b9b777db01",
            "4f80ba4de4a24fba8b1f499b4c1f5322",
            "33cd411bb2c74e1d97099c1a804d564b",
            "3c468e64906f4b648d1e54c49994c754"
          ]
        },
        "id": "hbY-YGSbdmeG",
        "outputId": "f672896f-d297-49d8-cd62-0b43327329d9"
      },
      "execution_count": 45,
      "outputs": [
        {
          "output_type": "display_data",
          "data": {
            "text/plain": [
              "0it [00:00, ?it/s]"
            ],
            "application/vnd.jupyter.widget-view+json": {
              "version_major": 2,
              "version_minor": 0,
              "model_id": "5d97dfe6d02e4f4db474ce949e938bec"
            }
          },
          "metadata": {}
        }
      ]
    },
    {
      "cell_type": "code",
      "source": [
        "print(df_group_all.shape)\n",
        "df_group_all.head()"
      ],
      "metadata": {
        "colab": {
          "base_uri": "https://localhost:8080/",
          "height": 224
        },
        "id": "gs5thRMIiANG",
        "outputId": "3ee173c1-045e-44e3-80a1-88b2e90d76f4"
      },
      "execution_count": 48,
      "outputs": [
        {
          "output_type": "stream",
          "name": "stdout",
          "text": [
            "(13935147, 5)\n"
          ]
        },
        {
          "output_type": "execute_result",
          "data": {
            "text/plain": [
              "    timestamp        lon        lat  \\\n",
              "0  1546498800  30.093562  59.853756   \n",
              "1  1546502400  30.093562  59.853756   \n",
              "2  1546506000  30.093562  59.853756   \n",
              "3  1546509600  30.093562  59.853756   \n",
              "4  1546513200  30.093562  59.853756   \n",
              "\n",
              "                                               point  cnt  \n",
              "0  0101000020E61000008D792FAEF3173E40717466E047ED...  1.0  \n",
              "1  0101000020E61000008D792FAEF3173E40717466E047ED...  0.0  \n",
              "2  0101000020E61000008D792FAEF3173E40717466E047ED...  0.0  \n",
              "3  0101000020E61000008D792FAEF3173E40717466E047ED...  0.0  \n",
              "4  0101000020E61000008D792FAEF3173E40717466E047ED...  0.0  "
            ],
            "text/html": [
              "\n",
              "  <div id=\"df-19dc4adc-55e5-44a8-8f35-280250bec054\">\n",
              "    <div class=\"colab-df-container\">\n",
              "      <div>\n",
              "<style scoped>\n",
              "    .dataframe tbody tr th:only-of-type {\n",
              "        vertical-align: middle;\n",
              "    }\n",
              "\n",
              "    .dataframe tbody tr th {\n",
              "        vertical-align: top;\n",
              "    }\n",
              "\n",
              "    .dataframe thead th {\n",
              "        text-align: right;\n",
              "    }\n",
              "</style>\n",
              "<table border=\"1\" class=\"dataframe\">\n",
              "  <thead>\n",
              "    <tr style=\"text-align: right;\">\n",
              "      <th></th>\n",
              "      <th>timestamp</th>\n",
              "      <th>lon</th>\n",
              "      <th>lat</th>\n",
              "      <th>point</th>\n",
              "      <th>cnt</th>\n",
              "    </tr>\n",
              "  </thead>\n",
              "  <tbody>\n",
              "    <tr>\n",
              "      <th>0</th>\n",
              "      <td>1546498800</td>\n",
              "      <td>30.093562</td>\n",
              "      <td>59.853756</td>\n",
              "      <td>0101000020E61000008D792FAEF3173E40717466E047ED...</td>\n",
              "      <td>1.0</td>\n",
              "    </tr>\n",
              "    <tr>\n",
              "      <th>1</th>\n",
              "      <td>1546502400</td>\n",
              "      <td>30.093562</td>\n",
              "      <td>59.853756</td>\n",
              "      <td>0101000020E61000008D792FAEF3173E40717466E047ED...</td>\n",
              "      <td>0.0</td>\n",
              "    </tr>\n",
              "    <tr>\n",
              "      <th>2</th>\n",
              "      <td>1546506000</td>\n",
              "      <td>30.093562</td>\n",
              "      <td>59.853756</td>\n",
              "      <td>0101000020E61000008D792FAEF3173E40717466E047ED...</td>\n",
              "      <td>0.0</td>\n",
              "    </tr>\n",
              "    <tr>\n",
              "      <th>3</th>\n",
              "      <td>1546509600</td>\n",
              "      <td>30.093562</td>\n",
              "      <td>59.853756</td>\n",
              "      <td>0101000020E61000008D792FAEF3173E40717466E047ED...</td>\n",
              "      <td>0.0</td>\n",
              "    </tr>\n",
              "    <tr>\n",
              "      <th>4</th>\n",
              "      <td>1546513200</td>\n",
              "      <td>30.093562</td>\n",
              "      <td>59.853756</td>\n",
              "      <td>0101000020E61000008D792FAEF3173E40717466E047ED...</td>\n",
              "      <td>0.0</td>\n",
              "    </tr>\n",
              "  </tbody>\n",
              "</table>\n",
              "</div>\n",
              "      <button class=\"colab-df-convert\" onclick=\"convertToInteractive('df-19dc4adc-55e5-44a8-8f35-280250bec054')\"\n",
              "              title=\"Convert this dataframe to an interactive table.\"\n",
              "              style=\"display:none;\">\n",
              "        \n",
              "  <svg xmlns=\"http://www.w3.org/2000/svg\" height=\"24px\"viewBox=\"0 0 24 24\"\n",
              "       width=\"24px\">\n",
              "    <path d=\"M0 0h24v24H0V0z\" fill=\"none\"/>\n",
              "    <path d=\"M18.56 5.44l.94 2.06.94-2.06 2.06-.94-2.06-.94-.94-2.06-.94 2.06-2.06.94zm-11 1L8.5 8.5l.94-2.06 2.06-.94-2.06-.94L8.5 2.5l-.94 2.06-2.06.94zm10 10l.94 2.06.94-2.06 2.06-.94-2.06-.94-.94-2.06-.94 2.06-2.06.94z\"/><path d=\"M17.41 7.96l-1.37-1.37c-.4-.4-.92-.59-1.43-.59-.52 0-1.04.2-1.43.59L10.3 9.45l-7.72 7.72c-.78.78-.78 2.05 0 2.83L4 21.41c.39.39.9.59 1.41.59.51 0 1.02-.2 1.41-.59l7.78-7.78 2.81-2.81c.8-.78.8-2.07 0-2.86zM5.41 20L4 18.59l7.72-7.72 1.47 1.35L5.41 20z\"/>\n",
              "  </svg>\n",
              "      </button>\n",
              "      \n",
              "  <style>\n",
              "    .colab-df-container {\n",
              "      display:flex;\n",
              "      flex-wrap:wrap;\n",
              "      gap: 12px;\n",
              "    }\n",
              "\n",
              "    .colab-df-convert {\n",
              "      background-color: #E8F0FE;\n",
              "      border: none;\n",
              "      border-radius: 50%;\n",
              "      cursor: pointer;\n",
              "      display: none;\n",
              "      fill: #1967D2;\n",
              "      height: 32px;\n",
              "      padding: 0 0 0 0;\n",
              "      width: 32px;\n",
              "    }\n",
              "\n",
              "    .colab-df-convert:hover {\n",
              "      background-color: #E2EBFA;\n",
              "      box-shadow: 0px 1px 2px rgba(60, 64, 67, 0.3), 0px 1px 3px 1px rgba(60, 64, 67, 0.15);\n",
              "      fill: #174EA6;\n",
              "    }\n",
              "\n",
              "    [theme=dark] .colab-df-convert {\n",
              "      background-color: #3B4455;\n",
              "      fill: #D2E3FC;\n",
              "    }\n",
              "\n",
              "    [theme=dark] .colab-df-convert:hover {\n",
              "      background-color: #434B5C;\n",
              "      box-shadow: 0px 1px 3px 1px rgba(0, 0, 0, 0.15);\n",
              "      filter: drop-shadow(0px 1px 2px rgba(0, 0, 0, 0.3));\n",
              "      fill: #FFFFFF;\n",
              "    }\n",
              "  </style>\n",
              "\n",
              "      <script>\n",
              "        const buttonEl =\n",
              "          document.querySelector('#df-19dc4adc-55e5-44a8-8f35-280250bec054 button.colab-df-convert');\n",
              "        buttonEl.style.display =\n",
              "          google.colab.kernel.accessAllowed ? 'block' : 'none';\n",
              "\n",
              "        async function convertToInteractive(key) {\n",
              "          const element = document.querySelector('#df-19dc4adc-55e5-44a8-8f35-280250bec054');\n",
              "          const dataTable =\n",
              "            await google.colab.kernel.invokeFunction('convertToInteractive',\n",
              "                                                     [key], {});\n",
              "          if (!dataTable) return;\n",
              "\n",
              "          const docLinkHtml = 'Like what you see? Visit the ' +\n",
              "            '<a target=\"_blank\" href=https://colab.research.google.com/notebooks/data_table.ipynb>data table notebook</a>'\n",
              "            + ' to learn more about interactive tables.';\n",
              "          element.innerHTML = '';\n",
              "          dataTable['output_type'] = 'display_data';\n",
              "          await google.colab.output.renderOutput(dataTable, element);\n",
              "          const docLink = document.createElement('div');\n",
              "          docLink.innerHTML = docLinkHtml;\n",
              "          element.appendChild(docLink);\n",
              "        }\n",
              "      </script>\n",
              "    </div>\n",
              "  </div>\n",
              "  "
            ]
          },
          "metadata": {},
          "execution_count": 48
        }
      ]
    },
    {
      "cell_type": "code",
      "source": [
        "df_group_all.to_csv(r\"/content/drive/MyDrive/Семестр 3/Ml_in_da_hood/all_data.csv\", index=False)"
      ],
      "metadata": {
        "id": "yiBDeuOKeZrW"
      },
      "execution_count": 47,
      "outputs": []
    },
    {
      "cell_type": "code",
      "source": [],
      "metadata": {
        "id": "6j8DAXEEuL_x"
      },
      "execution_count": null,
      "outputs": []
    },
    {
      "cell_type": "code",
      "source": [
        "df_group_all = pd.read_csv(r\"/content/drive/MyDrive/Семестр 3/Ml_in_da_hood/all_data.csv\")"
      ],
      "metadata": {
        "id": "CngUnN8PiCXW"
      },
      "execution_count": 8,
      "outputs": []
    },
    {
      "cell_type": "code",
      "source": [
        "df_group_all = df_group_all.sort_values([\"point\", \"timestamp\"])"
      ],
      "metadata": {
        "id": "9xl__VaRifhu"
      },
      "execution_count": 10,
      "outputs": []
    },
    {
      "cell_type": "code",
      "source": [],
      "metadata": {
        "id": "RnTg0wITrCCK"
      },
      "execution_count": null,
      "outputs": []
    },
    {
      "cell_type": "code",
      "source": [
        "import numpy as np\n",
        "import tensorflow\n",
        "from tensorflow.keras import Input\n",
        "from tensorflow.keras import Model\n",
        "import keras\n",
        "\n",
        "from tensorflow.keras.layers import Dense, concatenate\n",
        "from tensorflow.keras.layers import LSTM"
      ],
      "metadata": {
        "id": "h6EQ-DhcqGy4"
      },
      "execution_count": 12,
      "outputs": []
    },
    {
      "cell_type": "code",
      "source": [
        "def sampling(sequence, n_steps):\n",
        "  sequence = sequence.tolist()\n",
        "  X, Y = list(), list()\n",
        "\n",
        "  for i in range(len(sequence)):\n",
        "\n",
        "    sam = i + n_steps\n",
        "    if sam > len(sequence)-1:\n",
        "      break\n",
        "\n",
        "    x, y = sequence[i:sam], sequence[sam]\n",
        "\n",
        "    X.append(x)\n",
        "\n",
        "    Y.append([y])\n",
        "\n",
        "  return np.array(X), np.array(Y)\n",
        "\n",
        "\n",
        "def fit_lstm(X, y, nb_epoch, n_neurons, additional=[], experts = [],n_batch=1):\n",
        "    #n_batch=1\n",
        "    tensorflow.keras.utils.set_random_seed(42)\n",
        "    in1 = Input(batch_shape = (n_batch, X.shape[1], X.shape[2]))\n",
        "    out1 = LSTM(n_neurons, batch_input_shape=(n_batch, X.shape[1], X.shape[2]), stateful=True, return_sequences=False, activation='relu')(in1)\n",
        "    out1 = Dense(50, activation='relu')(out1)\n",
        "    if len(additional):\n",
        "        if len(experts):\n",
        "            add_input = additional #.reshape(additional.shape[0], additional.shape[1])\n",
        "            in2 = Input(batch_shape = (n_batch, add_input.shape[1]))\n",
        "            out2 = Dense(add_input.shape[1], activation='relu')(in2)\n",
        "            out2 = Dense(50, activation='relu')(out2)\n",
        "\n",
        "            exp_input = experts\n",
        "            experts_input = experts #.reshape(additional.shape[0], additional.shape[1])\n",
        "            in2_exp = Input(batch_shape = (n_batch, experts_input.shape[1]))\n",
        "            out3 = Dense(experts_input.shape[1], activation='relu')(in2_exp)\n",
        "            out3 = Dense(50, activation='relu')(out3)\n",
        "            \n",
        "\n",
        "            x = concatenate([out1, out2, out3]) \n",
        "            x = Dense(y.shape[1], activation='linear')(x)\n",
        "            model = Model(inputs=[in1,in2,in2_exp], outputs=x)\n",
        "            fitdat=[X,add_input,exp_input]\n",
        "        else:\n",
        "            add_input = additional #.reshape(additional.shape[0], additional.shape[1])\n",
        "            in2 = Input(batch_shape = (n_batch, add_input.shape[1]))\n",
        "            out2 = Dense(add_input.shape[1], activation='relu')(in2)\n",
        "            out2 = Dense(50, activation='relu')(out2)\n",
        "            x = concatenate([out1, out2]) \n",
        "            x = Dense(y.shape[1], activation='linear')(x)\n",
        "            model = Model(inputs=[in1,in2], outputs=x)\n",
        "            fitdat=[X,add_input]\n",
        "\n",
        "    else:\n",
        "        x = Dense(y.shape[1], activation='linear')(out1)\n",
        "        model = Model(inputs=[in1], outputs=x)\n",
        "        fitdat=[X]\n",
        "    opt = keras.optimizers.Adam(learning_rate=0.00001)\n",
        "    model.compile(loss='mean_squared_error',metrics=['mape'], optimizer='adamax',  run_eagerly=True)\n",
        "    history_loss=[]\n",
        "    history_val_loss=[]\n",
        "    for i in range(nb_epoch):\n",
        "        hist = model.fit(fitdat, y, validation_split=0.1,epochs=1, batch_size=n_batch, verbose=1, shuffle=False)\n",
        "        history_loss.append(hist.history['loss'])\n",
        "        history_val_loss.append(hist.history['val_loss'])\n",
        "    #print(model.summary())\n",
        "    return model,history_loss,history_val_loss\n",
        "\n",
        "\n",
        "\n",
        "def make_forecast(model, train_df, lag, fwd):\n",
        "    zfwd=np.array([])\n",
        "    trg=train_df['cnt'][-(lag +1):].values\n",
        "    for i in range(fwd):\n",
        "        X, y = sampling(trg, lag)\n",
        "        X.shape\n",
        "        inp=[X[:1]]\n",
        "        inp[0].shape\n",
        "        z=model.predict(inp, verbose=0)[0]\n",
        "        zfwd=np.concatenate((zfwd, z))\n",
        "        trg=np.concatenate((trg[1:], z))\n",
        "    return zfwd\n",
        "\n",
        "\n",
        "def normalize(x):\n",
        "    mi=np.nanmin(x)\n",
        "    ma=np.nanmax(np.array(x)-mi)\n",
        "    if ma>0.:\n",
        "        x_n=(np.array(x)-mi)/ma\n",
        "        return x_n, mi, ma\n",
        "    else:\n",
        "        return np.zeros(len(x)), mi, ma\n",
        "\n",
        "def un_normalize(x_n, mi, ma):\n",
        "    return x_n*ma+mi"
      ],
      "metadata": {
        "id": "DO6BTuxwrBek"
      },
      "execution_count": 17,
      "outputs": []
    },
    {
      "cell_type": "code",
      "source": [],
      "metadata": {
        "id": "sFIPb898rQZ1"
      },
      "execution_count": 17,
      "outputs": []
    },
    {
      "cell_type": "code",
      "source": [],
      "metadata": {
        "id": "icpg4695rQcT"
      },
      "execution_count": 17,
      "outputs": []
    },
    {
      "cell_type": "code",
      "source": [
        "poly_test = valid['point'].unique().tolist()[0]\n",
        "train_df = df_group_all[df_group_all['point'] == poly_test]"
      ],
      "metadata": {
        "id": "BNJKCHnFrE7l"
      },
      "execution_count": 18,
      "outputs": []
    },
    {
      "cell_type": "code",
      "source": [
        "train_df = train_df[-200:]\n",
        "train_df['norm'], mi, ma = normalize(train_df['cnt'])\n",
        "lag = 48\n",
        "X, y = sampling(train_df['norm'], lag)\n",
        "X = np.expand_dims(X,2)\n",
        "X.shape, y.shape\n",
        "model2,history_loss2,history_val_loss = fit_lstm(X, y, 5, 50 ,n_batch = 1)\n"
      ],
      "metadata": {
        "colab": {
          "base_uri": "https://localhost:8080/"
        },
        "id": "CHwp0YlIrLyq",
        "outputId": "c940929a-ab4b-4d2b-be09-f0ae438e8ec8"
      },
      "execution_count": 19,
      "outputs": [
        {
          "output_type": "stream",
          "name": "stdout",
          "text": [
            "136/136 [==============================] - 21s 157ms/step - loss: 0.0452 - mape: 21789812.0000 - val_loss: 0.0435 - val_mape: 63.8910\n",
            "136/136 [==============================] - 20s 150ms/step - loss: 0.0309 - mape: 31788084.0000 - val_loss: 0.0418 - val_mape: 64.6984\n",
            "136/136 [==============================] - 21s 155ms/step - loss: 0.0292 - mape: 30349188.0000 - val_loss: 0.0407 - val_mape: 66.0677\n",
            "136/136 [==============================] - 24s 178ms/step - loss: 0.0277 - mape: 28987596.0000 - val_loss: 0.0398 - val_mape: 67.1744\n",
            "136/136 [==============================] - 19s 140ms/step - loss: 0.0263 - mape: 27262654.0000 - val_loss: 0.0390 - val_mape: 68.2514\n"
          ]
        }
      ]
    },
    {
      "cell_type": "code",
      "source": [
        "test_df = valid[valid['point'] == poly_test].sort_values(by=['hour'])\n",
        "last_train = max(train_df['timestamp'])\n",
        "last_test = max(test_df['hour'])\n",
        "dates_to_pred = list(range(last_train+3600,last_test+3600, 3600))\n",
        "#fwd = len(dates_to_pred)\n",
        "fwd = 20\n",
        "zfwd = make_forecast(model2, train_df,lag, fwd)\n",
        "zfwd = un_normalize(zfwd, mi, ma)\n",
        "plt.plot(zfwd)"
      ],
      "metadata": {
        "colab": {
          "base_uri": "https://localhost:8080/",
          "height": 283
        },
        "id": "Oryb7ZlqrP5s",
        "outputId": "9f2dfa3e-8743-490b-f43e-03d95a83ce59"
      },
      "execution_count": 20,
      "outputs": [
        {
          "output_type": "execute_result",
          "data": {
            "text/plain": [
              "[<matplotlib.lines.Line2D at 0x7f9b4c860d10>]"
            ]
          },
          "metadata": {},
          "execution_count": 20
        },
        {
          "output_type": "display_data",
          "data": {
            "text/plain": [
              "<Figure size 432x288 with 1 Axes>"
            ],
            "image/png": "[encoded data removed]"
          },
          "metadata": {
            "needs_background": "light"
          }
        }
      ]
    },
    {
      "cell_type": "code",
      "source": [],
      "metadata": {
        "id": "t0A9CGG5vONB"
      },
      "execution_count": null,
      "outputs": []
    }
  ]
}